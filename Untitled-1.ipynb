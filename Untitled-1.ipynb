{
 "cells": [
  {
   "cell_type": "code",
   "execution_count": 14,
   "metadata": {},
   "outputs": [],
   "source": [
    "#import tensorflow as tf\n",
    "\n",
    "#print(\"Num GPUs Available: \", len(tf.config.list_physical_devices('GPU')))\n"
   ]
  },
  {
   "cell_type": "code",
   "execution_count": 15,
   "metadata": {},
   "outputs": [],
   "source": [
    "import numpy as np\n",
    "import pandas as pd\n",
    "import json\n",
    "import os\n",
    "\n",
    "# Set path to the folder containing JSON files\n",
    "json_folder_path = \"data\"\n",
    "n_files = 1\n",
    "\n",
    "# Get list of JSON file paths\n",
    "json_file_paths = [os.path.join(json_folder_path, filename) for filename in os.listdir(json_folder_path) if filename.endswith(\".json\")]\n",
    "\n",
    "# Read the first n_files JSON files and store in a list\n",
    "playlists_list = []\n",
    "for i in range(n_files):\n",
    "    with open(json_file_paths[i], \"r\") as f:\n",
    "        data = json.load(f)\n",
    "        #print(f.name, \"loaded\")\n",
    "        playlists = data[\"playlists\"]\n",
    "        playlists_list.extend(playlists)\n",
    "\n",
    "df = pd.DataFrame(playlists_list)\n"
   ]
  },
  {
   "cell_type": "code",
   "execution_count": 16,
   "metadata": {},
   "outputs": [
    {
     "data": {
      "text/html": [
       "<div>\n",
       "<style scoped>\n",
       "    .dataframe tbody tr th:only-of-type {\n",
       "        vertical-align: middle;\n",
       "    }\n",
       "\n",
       "    .dataframe tbody tr th {\n",
       "        vertical-align: top;\n",
       "    }\n",
       "\n",
       "    .dataframe thead th {\n",
       "        text-align: right;\n",
       "    }\n",
       "</style>\n",
       "<table border=\"1\" class=\"dataframe\">\n",
       "  <thead>\n",
       "    <tr style=\"text-align: right;\">\n",
       "      <th></th>\n",
       "      <th>name</th>\n",
       "      <th>collaborative</th>\n",
       "      <th>pid</th>\n",
       "      <th>modified_at</th>\n",
       "      <th>num_tracks</th>\n",
       "      <th>num_albums</th>\n",
       "      <th>num_followers</th>\n",
       "      <th>tracks</th>\n",
       "      <th>num_edits</th>\n",
       "      <th>duration_ms</th>\n",
       "      <th>num_artists</th>\n",
       "      <th>description</th>\n",
       "    </tr>\n",
       "  </thead>\n",
       "  <tbody>\n",
       "    <tr>\n",
       "      <th>0</th>\n",
       "      <td>Throwbacks</td>\n",
       "      <td>false</td>\n",
       "      <td>0</td>\n",
       "      <td>1493424000</td>\n",
       "      <td>52</td>\n",
       "      <td>47</td>\n",
       "      <td>1</td>\n",
       "      <td>[{'pos': 0, 'artist_name': 'Missy Elliott', 't...</td>\n",
       "      <td>6</td>\n",
       "      <td>11532414</td>\n",
       "      <td>37</td>\n",
       "      <td>NaN</td>\n",
       "    </tr>\n",
       "    <tr>\n",
       "      <th>1</th>\n",
       "      <td>Awesome Playlist</td>\n",
       "      <td>false</td>\n",
       "      <td>1</td>\n",
       "      <td>1506556800</td>\n",
       "      <td>39</td>\n",
       "      <td>23</td>\n",
       "      <td>1</td>\n",
       "      <td>[{'pos': 0, 'artist_name': 'Survivor', 'track_...</td>\n",
       "      <td>5</td>\n",
       "      <td>11656470</td>\n",
       "      <td>21</td>\n",
       "      <td>NaN</td>\n",
       "    </tr>\n",
       "    <tr>\n",
       "      <th>2</th>\n",
       "      <td>korean</td>\n",
       "      <td>false</td>\n",
       "      <td>2</td>\n",
       "      <td>1505692800</td>\n",
       "      <td>64</td>\n",
       "      <td>51</td>\n",
       "      <td>1</td>\n",
       "      <td>[{'pos': 0, 'artist_name': 'Hoody', 'track_uri...</td>\n",
       "      <td>18</td>\n",
       "      <td>14039958</td>\n",
       "      <td>31</td>\n",
       "      <td>NaN</td>\n",
       "    </tr>\n",
       "    <tr>\n",
       "      <th>3</th>\n",
       "      <td>mat</td>\n",
       "      <td>false</td>\n",
       "      <td>3</td>\n",
       "      <td>1501027200</td>\n",
       "      <td>126</td>\n",
       "      <td>107</td>\n",
       "      <td>1</td>\n",
       "      <td>[{'pos': 0, 'artist_name': 'Camille Saint-Saën...</td>\n",
       "      <td>4</td>\n",
       "      <td>28926058</td>\n",
       "      <td>86</td>\n",
       "      <td>NaN</td>\n",
       "    </tr>\n",
       "    <tr>\n",
       "      <th>4</th>\n",
       "      <td>90s</td>\n",
       "      <td>false</td>\n",
       "      <td>4</td>\n",
       "      <td>1401667200</td>\n",
       "      <td>17</td>\n",
       "      <td>16</td>\n",
       "      <td>2</td>\n",
       "      <td>[{'pos': 0, 'artist_name': 'The Smashing Pumpk...</td>\n",
       "      <td>7</td>\n",
       "      <td>4335282</td>\n",
       "      <td>16</td>\n",
       "      <td>NaN</td>\n",
       "    </tr>\n",
       "    <tr>\n",
       "      <th>...</th>\n",
       "      <td>...</td>\n",
       "      <td>...</td>\n",
       "      <td>...</td>\n",
       "      <td>...</td>\n",
       "      <td>...</td>\n",
       "      <td>...</td>\n",
       "      <td>...</td>\n",
       "      <td>...</td>\n",
       "      <td>...</td>\n",
       "      <td>...</td>\n",
       "      <td>...</td>\n",
       "      <td>...</td>\n",
       "    </tr>\n",
       "    <tr>\n",
       "      <th>995</th>\n",
       "      <td>old</td>\n",
       "      <td>false</td>\n",
       "      <td>995</td>\n",
       "      <td>1507852800</td>\n",
       "      <td>41</td>\n",
       "      <td>40</td>\n",
       "      <td>1</td>\n",
       "      <td>[{'pos': 0, 'artist_name': 'Katrina', 'track_u...</td>\n",
       "      <td>8</td>\n",
       "      <td>9917901</td>\n",
       "      <td>36</td>\n",
       "      <td>NaN</td>\n",
       "    </tr>\n",
       "    <tr>\n",
       "      <th>996</th>\n",
       "      <td>Daze</td>\n",
       "      <td>false</td>\n",
       "      <td>996</td>\n",
       "      <td>1479254400</td>\n",
       "      <td>17</td>\n",
       "      <td>17</td>\n",
       "      <td>1</td>\n",
       "      <td>[{'pos': 0, 'artist_name': 'PARTYNEXTDOOR', 't...</td>\n",
       "      <td>13</td>\n",
       "      <td>3699248</td>\n",
       "      <td>15</td>\n",
       "      <td>NaN</td>\n",
       "    </tr>\n",
       "    <tr>\n",
       "      <th>997</th>\n",
       "      <td>rap</td>\n",
       "      <td>false</td>\n",
       "      <td>997</td>\n",
       "      <td>1410307200</td>\n",
       "      <td>119</td>\n",
       "      <td>98</td>\n",
       "      <td>1</td>\n",
       "      <td>[{'pos': 0, 'artist_name': 'LoveRance', 'track...</td>\n",
       "      <td>63</td>\n",
       "      <td>27538723</td>\n",
       "      <td>82</td>\n",
       "      <td>NaN</td>\n",
       "    </tr>\n",
       "    <tr>\n",
       "      <th>998</th>\n",
       "      <td>Country</td>\n",
       "      <td>false</td>\n",
       "      <td>998</td>\n",
       "      <td>1507939200</td>\n",
       "      <td>108</td>\n",
       "      <td>75</td>\n",
       "      <td>1</td>\n",
       "      <td>[{'pos': 0, 'artist_name': 'Hunter Hayes', 'tr...</td>\n",
       "      <td>37</td>\n",
       "      <td>24950143</td>\n",
       "      <td>40</td>\n",
       "      <td>NaN</td>\n",
       "    </tr>\n",
       "    <tr>\n",
       "      <th>999</th>\n",
       "      <td>thinking of you</td>\n",
       "      <td>false</td>\n",
       "      <td>999</td>\n",
       "      <td>1507766400</td>\n",
       "      <td>44</td>\n",
       "      <td>43</td>\n",
       "      <td>1</td>\n",
       "      <td>[{'pos': 0, 'artist_name': 'Pvris', 'track_uri...</td>\n",
       "      <td>34</td>\n",
       "      <td>9065801</td>\n",
       "      <td>37</td>\n",
       "      <td>NaN</td>\n",
       "    </tr>\n",
       "  </tbody>\n",
       "</table>\n",
       "<p>1000 rows × 12 columns</p>\n",
       "</div>"
      ],
      "text/plain": [
       "                 name collaborative  pid  modified_at  num_tracks  num_albums  \\\n",
       "0          Throwbacks         false    0   1493424000          52          47   \n",
       "1    Awesome Playlist         false    1   1506556800          39          23   \n",
       "2             korean          false    2   1505692800          64          51   \n",
       "3                 mat         false    3   1501027200         126         107   \n",
       "4                 90s         false    4   1401667200          17          16   \n",
       "..                ...           ...  ...          ...         ...         ...   \n",
       "995               old         false  995   1507852800          41          40   \n",
       "996              Daze         false  996   1479254400          17          17   \n",
       "997               rap         false  997   1410307200         119          98   \n",
       "998           Country         false  998   1507939200         108          75   \n",
       "999   thinking of you         false  999   1507766400          44          43   \n",
       "\n",
       "     num_followers                                             tracks  \\\n",
       "0                1  [{'pos': 0, 'artist_name': 'Missy Elliott', 't...   \n",
       "1                1  [{'pos': 0, 'artist_name': 'Survivor', 'track_...   \n",
       "2                1  [{'pos': 0, 'artist_name': 'Hoody', 'track_uri...   \n",
       "3                1  [{'pos': 0, 'artist_name': 'Camille Saint-Saën...   \n",
       "4                2  [{'pos': 0, 'artist_name': 'The Smashing Pumpk...   \n",
       "..             ...                                                ...   \n",
       "995              1  [{'pos': 0, 'artist_name': 'Katrina', 'track_u...   \n",
       "996              1  [{'pos': 0, 'artist_name': 'PARTYNEXTDOOR', 't...   \n",
       "997              1  [{'pos': 0, 'artist_name': 'LoveRance', 'track...   \n",
       "998              1  [{'pos': 0, 'artist_name': 'Hunter Hayes', 'tr...   \n",
       "999              1  [{'pos': 0, 'artist_name': 'Pvris', 'track_uri...   \n",
       "\n",
       "     num_edits  duration_ms  num_artists description  \n",
       "0            6     11532414           37         NaN  \n",
       "1            5     11656470           21         NaN  \n",
       "2           18     14039958           31         NaN  \n",
       "3            4     28926058           86         NaN  \n",
       "4            7      4335282           16         NaN  \n",
       "..         ...          ...          ...         ...  \n",
       "995          8      9917901           36         NaN  \n",
       "996         13      3699248           15         NaN  \n",
       "997         63     27538723           82         NaN  \n",
       "998         37     24950143           40         NaN  \n",
       "999         34      9065801           37         NaN  \n",
       "\n",
       "[1000 rows x 12 columns]"
      ]
     },
     "metadata": {},
     "output_type": "display_data"
    }
   ],
   "source": [
    "display(df)"
   ]
  },
  {
   "cell_type": "code",
   "execution_count": 17,
   "metadata": {},
   "outputs": [],
   "source": [
    "df = df.drop(columns=['collaborative', 'modified_at', 'num_followers', 'num_edits', 'description'])\n"
   ]
  },
  {
   "cell_type": "code",
   "execution_count": 18,
   "metadata": {},
   "outputs": [],
   "source": [
    "# Create empty lists to store track and interaction information\n",
    "tracks = []\n",
    "interactions = []\n",
    "\n",
    "# Initialize a dictionary to store track_uri and its corresponding track_id\n",
    "track_dict = {}\n",
    "\n",
    "# Loop through each row in the DataFrame\n",
    "for index, row in df.iterrows():\n",
    "    # Loop through each track in the playlist\n",
    "    for track in row['tracks']:\n",
    "        # Check if the track_uri has already been assigned a track_id\n",
    "        if track['track_uri'] in track_dict:\n",
    "            # If so, assign the existing track_id to this track\n",
    "            track_id = track_dict[track['track_uri']]\n",
    "        else:\n",
    "            # Otherwise, create a new track_id and add it to the dictionary\n",
    "            track_id = len(track_dict) + 1\n",
    "            track_dict[track['track_uri']] = track_id\n",
    "        \n",
    "        # Add the track_id to this track's dictionary\n",
    "        track['track_id'] = track_id\n",
    "        \n",
    "        # Add the track and interaction information to the lists\n",
    "        tracks.append({\n",
    "            'pid': row['pid'],\n",
    "            'track_id': track['track_id'],\n",
    "            'track_name': track['track_name'],\n",
    "            'track_uri': track['track_uri'],\n",
    "            'album_name': track['album_name'],\n",
    "            'album_uri': track['album_uri'],\n",
    "            'artist_name': track['artist_name'],\n",
    "            'artist_uri': track['artist_uri'],\n",
    "            'duration_ms': track['duration_ms'],\n",
    "        })\n",
    "        interactions.append({\n",
    "            'pid': row['pid'],\n",
    "            'track_id': track['track_id'],\n",
    "            'rating': 1,\n",
    "        })\n",
    "\n",
    "\n",
    "# Create DataFrames from the lists of tracks and interactions\n",
    "df_tracks = pd.DataFrame(tracks)\n",
    "df_interactions = pd.DataFrame(interactions)\n"
   ]
  },
  {
   "cell_type": "code",
   "execution_count": 19,
   "metadata": {},
   "outputs": [
    {
     "data": {
      "text/html": [
       "<div>\n",
       "<style scoped>\n",
       "    .dataframe tbody tr th:only-of-type {\n",
       "        vertical-align: middle;\n",
       "    }\n",
       "\n",
       "    .dataframe tbody tr th {\n",
       "        vertical-align: top;\n",
       "    }\n",
       "\n",
       "    .dataframe thead th {\n",
       "        text-align: right;\n",
       "    }\n",
       "</style>\n",
       "<table border=\"1\" class=\"dataframe\">\n",
       "  <thead>\n",
       "    <tr style=\"text-align: right;\">\n",
       "      <th></th>\n",
       "      <th>pid</th>\n",
       "      <th>track_id</th>\n",
       "      <th>rating</th>\n",
       "    </tr>\n",
       "  </thead>\n",
       "  <tbody>\n",
       "    <tr>\n",
       "      <th>0</th>\n",
       "      <td>0</td>\n",
       "      <td>1</td>\n",
       "      <td>1</td>\n",
       "    </tr>\n",
       "    <tr>\n",
       "      <th>1</th>\n",
       "      <td>0</td>\n",
       "      <td>2</td>\n",
       "      <td>1</td>\n",
       "    </tr>\n",
       "    <tr>\n",
       "      <th>2</th>\n",
       "      <td>0</td>\n",
       "      <td>3</td>\n",
       "      <td>1</td>\n",
       "    </tr>\n",
       "    <tr>\n",
       "      <th>3</th>\n",
       "      <td>0</td>\n",
       "      <td>4</td>\n",
       "      <td>1</td>\n",
       "    </tr>\n",
       "    <tr>\n",
       "      <th>4</th>\n",
       "      <td>0</td>\n",
       "      <td>5</td>\n",
       "      <td>1</td>\n",
       "    </tr>\n",
       "    <tr>\n",
       "      <th>...</th>\n",
       "      <td>...</td>\n",
       "      <td>...</td>\n",
       "      <td>...</td>\n",
       "    </tr>\n",
       "    <tr>\n",
       "      <th>67498</th>\n",
       "      <td>999</td>\n",
       "      <td>2077</td>\n",
       "      <td>1</td>\n",
       "    </tr>\n",
       "    <tr>\n",
       "      <th>67499</th>\n",
       "      <td>999</td>\n",
       "      <td>34440</td>\n",
       "      <td>1</td>\n",
       "    </tr>\n",
       "    <tr>\n",
       "      <th>67500</th>\n",
       "      <td>999</td>\n",
       "      <td>34441</td>\n",
       "      <td>1</td>\n",
       "    </tr>\n",
       "    <tr>\n",
       "      <th>67501</th>\n",
       "      <td>999</td>\n",
       "      <td>34442</td>\n",
       "      <td>1</td>\n",
       "    </tr>\n",
       "    <tr>\n",
       "      <th>67502</th>\n",
       "      <td>999</td>\n",
       "      <td>34443</td>\n",
       "      <td>1</td>\n",
       "    </tr>\n",
       "  </tbody>\n",
       "</table>\n",
       "<p>67503 rows × 3 columns</p>\n",
       "</div>"
      ],
      "text/plain": [
       "       pid  track_id  rating\n",
       "0        0         1       1\n",
       "1        0         2       1\n",
       "2        0         3       1\n",
       "3        0         4       1\n",
       "4        0         5       1\n",
       "...    ...       ...     ...\n",
       "67498  999      2077       1\n",
       "67499  999     34440       1\n",
       "67500  999     34441       1\n",
       "67501  999     34442       1\n",
       "67502  999     34443       1\n",
       "\n",
       "[67503 rows x 3 columns]"
      ]
     },
     "metadata": {},
     "output_type": "display_data"
    }
   ],
   "source": [
    "display(df_interactions)"
   ]
  },
  {
   "cell_type": "code",
   "execution_count": 21,
   "metadata": {},
   "outputs": [
    {
     "name": "stderr",
     "output_type": "stream",
     "text": [
      "c:\\Users\\Vitor\\miniconda3\\lib\\site-packages\\sklearn\\metrics\\pairwise.py:2025: DataConversionWarning: Data was converted to boolean for metric jaccard\n",
      "  warnings.warn(msg, DataConversionWarning)\n"
     ]
    }
   ],
   "source": [
    "from sklearn.neighbors import NearestNeighbors\n",
    "from scipy.sparse import csr_matrix\n",
    "from sklearn.metrics.pairwise import pairwise_distances\n",
    "\n",
    "sparse_matrix = csr_matrix((df_interactions['rating'], (df_interactions['pid'], df_interactions['track_id'])))\n",
    "\n",
    "# Convert sparse matrix to dense matrix\n",
    "dense_matrix = sparse_matrix.toarray()\n",
    "\n",
    "# Calculate Jaccard similarity matrix\n",
    "user_distances = pairwise_distances(dense_matrix, metric='jaccard')\n"
   ]
  },
  {
   "cell_type": "code",
   "execution_count": 22,
   "metadata": {},
   "outputs": [
    {
     "data": {
      "text/plain": [
       "34444000"
      ]
     },
     "metadata": {},
     "output_type": "display_data"
    }
   ],
   "source": [
    "display(dense_matrix.size)"
   ]
  },
  {
   "cell_type": "code",
   "execution_count": 23,
   "metadata": {},
   "outputs": [
    {
     "name": "stdout",
     "output_type": "stream",
     "text": [
      "User ID: 261\n",
      "Playlist:\n"
     ]
    },
    {
     "data": {
      "text/plain": [
       "'- 1817: Stay'"
      ]
     },
     "metadata": {},
     "output_type": "display_data"
    },
    {
     "data": {
      "text/plain": [
       "'- 12055: Get Home (Get Right)'"
      ]
     },
     "metadata": {},
     "output_type": "display_data"
    },
    {
     "data": {
      "text/plain": [
       "'- 2931: Show Me Love (feat. Chance The Rapper, Moses Sumney and Robin Hannibal) - Skrillex Remix'"
      ]
     },
     "metadata": {},
     "output_type": "display_data"
    },
    {
     "data": {
      "text/plain": [
       "'- 3714: One Dance'"
      ]
     },
     "metadata": {},
     "output_type": "display_data"
    },
    {
     "data": {
      "text/plain": [
       "\"- 7756: I'm Good\""
      ]
     },
     "metadata": {},
     "output_type": "display_data"
    },
    {
     "data": {
      "text/plain": [
       "'- 7781: Mind Your Manners (feat. Icona Pop)'"
      ]
     },
     "metadata": {},
     "output_type": "display_data"
    },
    {
     "data": {
      "text/plain": [
       "'- 12056: City Of Stars'"
      ]
     },
     "metadata": {},
     "output_type": "display_data"
    },
    {
     "data": {
      "text/plain": [
       "'- 1623: Work from Home'"
      ]
     },
     "metadata": {},
     "output_type": "display_data"
    },
    {
     "data": {
      "text/plain": [
       "'- 537: Go Flex'"
      ]
     },
     "metadata": {},
     "output_type": "display_data"
    },
    {
     "data": {
      "text/plain": [
       "'- 4756: What They Want'"
      ]
     },
     "metadata": {},
     "output_type": "display_data"
    },
    {
     "name": "stdout",
     "output_type": "stream",
     "text": [
      "Recommended tracks:\n"
     ]
    },
    {
     "data": {
      "text/plain": [
       "'- 14858: Fast Car'"
      ]
     },
     "metadata": {},
     "output_type": "display_data"
    },
    {
     "data": {
      "text/plain": [
       "'- 2702: Caroline'"
      ]
     },
     "metadata": {},
     "output_type": "display_data"
    },
    {
     "data": {
      "text/plain": [
       "'- 18710: Eleven 11: / 11'"
      ]
     },
     "metadata": {},
     "output_type": "display_data"
    },
    {
     "data": {
      "text/plain": [
       "\"- 28055: I Can't Stop Drinking About You\""
      ]
     },
     "metadata": {},
     "output_type": "display_data"
    },
    {
     "data": {
      "text/plain": [
       "'- 3610: Time For That'"
      ]
     },
     "metadata": {},
     "output_type": "display_data"
    },
    {
     "data": {
      "text/plain": [
       "'- 1946: Exchange'"
      ]
     },
     "metadata": {},
     "output_type": "display_data"
    },
    {
     "data": {
      "text/plain": [
       "'- 22561: Freak Hoe'"
      ]
     },
     "metadata": {},
     "output_type": "display_data"
    },
    {
     "data": {
      "text/plain": [
       "'- 1406: You & Me'"
      ]
     },
     "metadata": {},
     "output_type": "display_data"
    },
    {
     "data": {
      "text/plain": [
       "'- 1827: Never Be Like You'"
      ]
     },
     "metadata": {},
     "output_type": "display_data"
    },
    {
     "data": {
      "text/plain": [
       "'- 4773: No Problem (feat. Lil Wayne & 2 Chainz)'"
      ]
     },
     "metadata": {},
     "output_type": "display_data"
    }
   ],
   "source": [
    "# Assuming k = 5 (number of neighbors to consider)\n",
    "k = 1\n",
    "\n",
    "# Find k nearest neighbors for user with id 0\n",
    "user_id = 261\n",
    "user_distances_sorted = np.argsort(user_distances[user_id])[1:k+1]\n",
    "\n",
    "# Retrieve track_ids of recommended items from nearest neighbors\n",
    "recommended_track_ids = set()\n",
    "for neighbor_id in user_distances_sorted:\n",
    "    neighbor_tracks = df_interactions[df_interactions['pid'] == neighbor_id]['track_id']\n",
    "    recommended_track_ids.update(neighbor_tracks)\n",
    "\n",
    "# Exclude tracks already rated by the target user\n",
    "rated_tracks = df_interactions[df_interactions['pid'] == user_id]['track_id']\n",
    "recommended_track_ids = recommended_track_ids - set(rated_tracks)\n",
    "\n",
    "# Limit the recommended tracks to the desired number (10 in this case)\n",
    "recommended_track_ids = list(recommended_track_ids)[:10]\n",
    "\n",
    "\n",
    "# Print user ID and their playlist\n",
    "print(f\"User ID: {user_id}\")\n",
    "print(\"Playlist:\")\n",
    "for track_id in rated_tracks[:10]:\n",
    "    track_name = df_tracks.loc[df_tracks['track_id'] == track_id, 'track_name'].values[0]\n",
    "    display(f\"- {track_id}: {track_name}\")\n",
    "\n",
    "# Print recommended track IDs and their names\n",
    "print(\"Recommended tracks:\")\n",
    "for track_id in recommended_track_ids:\n",
    "    track_name = df_tracks.loc[df_tracks['track_id'] == track_id, 'track_name'].values[0]\n",
    "    display(f\"- {track_id}: {track_name}\")\n"
   ]
  }
 ],
 "metadata": {
  "kernelspec": {
   "display_name": "Python 3",
   "language": "python",
   "name": "python3"
  },
  "language_info": {
   "codemirror_mode": {
    "name": "ipython",
    "version": 3
   },
   "file_extension": ".py",
   "mimetype": "text/x-python",
   "name": "python",
   "nbconvert_exporter": "python",
   "pygments_lexer": "ipython3",
   "version": "3.10.10"
  },
  "orig_nbformat": 4
 },
 "nbformat": 4,
 "nbformat_minor": 2
}
